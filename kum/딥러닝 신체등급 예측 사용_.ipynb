{
 "cells": [
  {
   "cell_type": "code",
   "execution_count": 16,
   "metadata": {
    "ExecuteTime": {
     "end_time": "2021-04-26T08:42:02.030171Z",
     "start_time": "2021-04-26T08:42:02.015157Z"
    }
   },
   "outputs": [],
   "source": [
    "import warnings\n",
    "warnings.filterwarnings(action='ignore')\n",
    "# warnings.filterwarnings(action='default')\n"
   ]
  },
  {
   "cell_type": "markdown",
   "metadata": {},
   "source": [
    "# 모델 불러오기"
   ]
  },
  {
   "cell_type": "code",
   "execution_count": 17,
   "metadata": {
    "ExecuteTime": {
     "end_time": "2021-04-26T08:42:02.653595Z",
     "start_time": "2021-04-26T08:42:02.598717Z"
    }
   },
   "outputs": [
    {
     "name": "stdout",
     "output_type": "stream",
     "text": [
      "Loaded model from disk\n"
     ]
    }
   ],
   "source": [
    "from tensorflow.compat.v2.keras.models import model_from_json\n",
    "json_file = open(\"CNN_fashion_mnist_model.json\", \"r\") \n",
    "loaded_model_json = json_file.read() \n",
    "json_file.close()\n",
    "\n",
    "# json파일로부터 model 로드하기 \n",
    "loaded_model = model_from_json(loaded_model_json) \n",
    "\n",
    "# 로드한 model에 weight 로드하기 \n",
    "loaded_model.load_weights(\"CNN_fashion_mnist_model.h5\") \n",
    "print(\"Loaded model from disk\")\n"
   ]
  },
  {
   "cell_type": "markdown",
   "metadata": {},
   "source": [
    "# scaler 불러오기"
   ]
  },
  {
   "cell_type": "code",
   "execution_count": 18,
   "metadata": {
    "ExecuteTime": {
     "end_time": "2021-04-26T08:42:02.983040Z",
     "start_time": "2021-04-26T08:42:02.976058Z"
    }
   },
   "outputs": [],
   "source": [
    "import joblib\n",
    "scaler=joblib.load('scaler.save')"
   ]
  },
  {
   "cell_type": "code",
   "execution_count": 19,
   "metadata": {
    "ExecuteTime": {
     "end_time": "2021-04-26T08:42:03.183910Z",
     "start_time": "2021-04-26T08:42:03.176903Z"
    }
   },
   "outputs": [],
   "source": [
    "def trans_data(n1,n2,n3,n4,n5,n6,n7,n8,n9):\n",
    "    df=np.array([[n1,n2,n3,n4,n5,n6,n7,n8,n9]],dtype=np.float64)\n",
    "    s_input = scaler.transform(df)\n",
    "    return s_input"
   ]
  },
  {
   "cell_type": "code",
   "execution_count": 20,
   "metadata": {
    "ExecuteTime": {
     "end_time": "2021-04-26T08:42:23.296380Z",
     "start_time": "2021-04-26T08:42:03.380534Z"
    }
   },
   "outputs": [
    {
     "name": "stdout",
     "output_type": "stream",
     "text": [
      "나이를 입력하시오22\n",
      "남성:1 , 여성:0를 입력하시오0\n",
      "악력 값을 입력하시오23.2\n",
      "윗몸일으키기 횟수를 입력하시오28.0\n",
      "앉아윗몸앞으로굽히기:cm 값을 입력하시오20.7\n",
      "오래 달리기 횟수를 입력하시오24.0\n",
      "제자리 멀리뛰기 cm 값을 입력하시오150.0\n",
      "체지방 율을 입력하시오31.5\n",
      "체질량 지수(BMI)값을 입력하시오21.1\n",
      "신체등급 예상 3등급이 나오셨습니다. 꾸준한 운동이 필요합니다\n"
     ]
    }
   ],
   "source": [
    "age=float(input('나이를 입력하시오'))\n",
    "gender=float(input('남성:1 , 여성:0를 입력하시오'))\n",
    "power=float(input('악력 값을 입력하시오'))\n",
    "sit_up=float(input('윗몸일으키기 횟수를 입력하시오'))\n",
    "bending=float(input('앉아윗몸앞으로굽히기:cm 값을 입력하시오'))\n",
    "run=float(input('오래 달리기 횟수를 입력하시오'))\n",
    "jump=float(input('제자리 멀리뛰기 cm 값을 입력하시오'))\n",
    "body_fat=float(input('체지방 율을 입력하시오'))\n",
    "BMI=float(input('체질량 지수(BMI)값을 입력하시오'))\n",
    "\n",
    "def trans(n1,n2,n3,n4,n5,n6,n7,n8,n9):\n",
    "    df=np.array([[n1,n2,n3,n4,n5,n6,n7,n8,n9]],dtype=np.float64)\n",
    "    s_input = scaler.transform(df)\n",
    "    return s_input\n",
    "\n",
    "body_range=loaded_model.predict_classes(trans(age,gender,power,sit_up,bending,run,jump,body_fat,BMI))[0]\n",
    "\n",
    "if body_range==3:\n",
    "    print ('신체등급 예상 3등급이 나오셨습니다. 꾸준한 운동이 필요합니다')\n",
    "elif body_range==2:\n",
    "    print('신체등급 예상 2등급이 나오셨습니다, 건강한 신체를 가지고 계십니다')\n",
    "elif body_range==1:\n",
    "    print('신체등급 예상 1등급이 나오셨습니다, 피지컬 대마왕')\n",
    "elif body_range==0:\n",
    "    print('아쉽지만 건강등급조건에 만족하지 않으셨습니다. 참가증 받아가세요')"
   ]
  },
  {
   "cell_type": "code",
   "execution_count": null,
   "metadata": {},
   "outputs": [],
   "source": []
  },
  {
   "cell_type": "code",
   "execution_count": null,
   "metadata": {},
   "outputs": [],
   "source": []
  }
 ],
 "metadata": {
  "kernelspec": {
   "display_name": "Python 3",
   "language": "python",
   "name": "python3"
  },
  "language_info": {
   "codemirror_mode": {
    "name": "ipython",
    "version": 3
   },
   "file_extension": ".py",
   "mimetype": "text/x-python",
   "name": "python",
   "nbconvert_exporter": "python",
   "pygments_lexer": "ipython3",
   "version": "3.8.5"
  },
  "toc": {
   "base_numbering": 1,
   "nav_menu": {},
   "number_sections": true,
   "sideBar": true,
   "skip_h1_title": false,
   "title_cell": "Table of Contents",
   "title_sidebar": "Contents",
   "toc_cell": false,
   "toc_position": {},
   "toc_section_display": true,
   "toc_window_display": false
  },
  "varInspector": {
   "cols": {
    "lenName": 16,
    "lenType": 16,
    "lenVar": 40
   },
   "kernels_config": {
    "python": {
     "delete_cmd_postfix": "",
     "delete_cmd_prefix": "del ",
     "library": "var_list.py",
     "varRefreshCmd": "print(var_dic_list())"
    },
    "r": {
     "delete_cmd_postfix": ") ",
     "delete_cmd_prefix": "rm(",
     "library": "var_list.r",
     "varRefreshCmd": "cat(var_dic_list()) "
    }
   },
   "types_to_exclude": [
    "module",
    "function",
    "builtin_function_or_method",
    "instance",
    "_Feature"
   ],
   "window_display": false
  }
 },
 "nbformat": 4,
 "nbformat_minor": 4
}
